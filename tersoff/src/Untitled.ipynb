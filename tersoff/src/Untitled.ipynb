{
 "cells": [
  {
   "cell_type": "code",
   "execution_count": 3,
   "id": "47b9f982-d167-42b3-886d-e1cae9c5b016",
   "metadata": {},
   "outputs": [
    {
     "data": {
      "text/plain": [
       "(10, 10.033222835420892, 10.066556046521125)"
      ]
     },
     "execution_count": 3,
     "metadata": {},
     "output_type": "execute_result"
    }
   ],
   "source": [
    "dv0 =0.01\n",
    "dx = 0.01\n",
    "Lx = 10\n",
    "lx1 = Lx*(1+dx)**(1./3)\n",
    "Lx,lx1,lx1*(1+dx)**(1./3)"
   ]
  },
  {
   "cell_type": "code",
   "execution_count": null,
   "id": "4336d733-35fd-485e-961a-d6bf2367241b",
   "metadata": {},
   "outputs": [],
   "source": []
  }
 ],
 "metadata": {
  "kernelspec": {
   "display_name": "Python 3 (ipykernel)",
   "language": "python",
   "name": "python3"
  },
  "language_info": {
   "codemirror_mode": {
    "name": "ipython",
    "version": 3
   },
   "file_extension": ".py",
   "mimetype": "text/x-python",
   "name": "python",
   "nbconvert_exporter": "python",
   "pygments_lexer": "ipython3",
   "version": "3.9.12"
  }
 },
 "nbformat": 4,
 "nbformat_minor": 5
}
